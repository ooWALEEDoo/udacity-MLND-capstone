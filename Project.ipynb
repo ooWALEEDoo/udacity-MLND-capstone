{
 "cells": [
  {
   "cell_type": "code",
   "execution_count": 19,
   "metadata": {},
   "outputs": [],
   "source": [
    "import glob\n",
    "import itertools\n",
    "from pydub import AudioSegment"
   ]
  },
  {
   "cell_type": "code",
   "execution_count": 8,
   "metadata": {},
   "outputs": [],
   "source": [
    "reciters_paths = glob.glob('./reciters/*/*')"
   ]
  },
  {
   "cell_type": "code",
   "execution_count": 25,
   "metadata": {},
   "outputs": [],
   "source": [
    "paths_dictionary = {}\n",
    "for i, j in itertools.groupby(reciters_paths, key=lambda x: x.split('/')[-2]):\n",
    "    paths_dictionary[i] = list(j)"
   ]
  },
  {
   "cell_type": "code",
   "execution_count": 33,
   "metadata": {},
   "outputs": [],
   "source": [
    "reciter_path = paths_dictionary['1']"
   ]
  },
  {
   "cell_type": "code",
   "execution_count": 34,
   "metadata": {},
   "outputs": [],
   "source": [
    "path = reciter_path[0]"
   ]
  },
  {
   "cell_type": "code",
   "execution_count": 35,
   "metadata": {},
   "outputs": [],
   "source": [
    "sound = AudioSegment.from_mp3(path)"
   ]
  },
  {
   "cell_type": "code",
   "execution_count": 37,
   "metadata": {},
   "outputs": [
    {
     "data": {
      "text/plain": [
       "44100"
      ]
     },
     "execution_count": 37,
     "metadata": {},
     "output_type": "execute_result"
    }
   ],
   "source": [
    "sound.frame_rate"
   ]
  },
  {
   "cell_type": "code",
   "execution_count": 36,
   "metadata": {},
   "outputs": [
    {
     "name": "stdout",
     "output_type": "stream",
     "text": [
      "<class 'array.array'>\n",
      "<class 'array.array'>\n",
      "<class 'array.array'>\n",
      "<class 'array.array'>\n",
      "<class 'array.array'>\n",
      "<class 'array.array'>\n",
      "<class 'array.array'>\n",
      "<class 'array.array'>\n",
      "<class 'array.array'>\n",
      "<class 'array.array'>\n",
      "<class 'array.array'>\n",
      "<class 'array.array'>\n",
      "<class 'array.array'>\n",
      "<class 'array.array'>\n",
      "<class 'array.array'>\n",
      "<class 'array.array'>\n",
      "<class 'array.array'>\n",
      "<class 'array.array'>\n",
      "<class 'array.array'>\n",
      "<class 'array.array'>\n",
      "<class 'array.array'>\n",
      "<class 'array.array'>\n",
      "<class 'array.array'>\n",
      "<class 'array.array'>\n",
      "<class 'array.array'>\n",
      "<class 'array.array'>\n",
      "<class 'array.array'>\n",
      "<class 'array.array'>\n",
      "<class 'array.array'>\n",
      "<class 'array.array'>\n",
      "<class 'array.array'>\n",
      "<class 'array.array'>\n",
      "<class 'array.array'>\n",
      "<class 'array.array'>\n",
      "<class 'array.array'>\n",
      "<class 'array.array'>\n",
      "<class 'array.array'>\n",
      "<class 'array.array'>\n",
      "<class 'array.array'>\n",
      "<class 'array.array'>\n",
      "<class 'array.array'>\n",
      "<class 'array.array'>\n",
      "<class 'array.array'>\n",
      "<class 'array.array'>\n",
      "<class 'array.array'>\n",
      "<class 'array.array'>\n",
      "<class 'array.array'>\n",
      "<class 'array.array'>\n",
      "<class 'array.array'>\n",
      "<class 'array.array'>\n",
      "<class 'array.array'>\n",
      "<class 'array.array'>\n",
      "<class 'array.array'>\n",
      "<class 'array.array'>\n",
      "<class 'array.array'>\n",
      "<class 'array.array'>\n",
      "<class 'array.array'>\n",
      "<class 'array.array'>\n",
      "<class 'array.array'>\n",
      "<class 'array.array'>\n",
      "<class 'array.array'>\n",
      "<class 'array.array'>\n",
      "<class 'array.array'>\n",
      "<class 'array.array'>\n",
      "<class 'array.array'>\n",
      "<class 'array.array'>\n",
      "<class 'array.array'>\n",
      "<class 'array.array'>\n",
      "<class 'array.array'>\n",
      "<class 'array.array'>\n",
      "<class 'array.array'>\n",
      "<class 'array.array'>\n",
      "<class 'array.array'>\n",
      "<class 'array.array'>\n",
      "<class 'array.array'>\n",
      "<class 'array.array'>\n",
      "<class 'array.array'>\n"
     ]
    }
   ],
   "source": [
    "for i, chunk in enumerate(sound[::5000]):\n",
    "    print(type(chunk.get_array_of_samples()))"
   ]
  }
 ],
 "metadata": {
  "kernelspec": {
   "display_name": "Python 3",
   "language": "python",
   "name": "python3"
  },
  "language_info": {
   "codemirror_mode": {
    "name": "ipython",
    "version": 3
   },
   "file_extension": ".py",
   "mimetype": "text/x-python",
   "name": "python",
   "nbconvert_exporter": "python",
   "pygments_lexer": "ipython3",
   "version": "3.6.4"
  }
 },
 "nbformat": 4,
 "nbformat_minor": 2
}
