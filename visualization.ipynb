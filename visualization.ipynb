{
 "cells": [
  {
   "cell_type": "code",
   "execution_count": 1,
   "metadata": {},
   "outputs": [
    {
     "name": "stdout",
     "output_type": "stream",
     "text": [
      "Using matplotlib backend: Qt5Agg\n"
     ]
    }
   ],
   "source": [
    "%matplotlib\n",
    "import glob\n",
    "import random\n",
    "import itertools\n",
    "import math\n",
    "import numpy as np\n",
    "import seaborn as sns\n",
    "from sklearn.model_selection import train_test_split\n",
    "from sklearn.metrics import accuracy_score, precision_score\n",
    "from python_speech_features import mfcc, fbank, logfbank\n",
    "from pydub import AudioSegment\n",
    "from collections import Counter\n",
    "from multiprocessing import Pool\n",
    "from tqdm import tqdm"
   ]
  },
  {
   "cell_type": "code",
   "execution_count": 2,
   "metadata": {},
   "outputs": [],
   "source": [
    "reciters_paths = glob.glob('./reciters/*/*')\n",
    "\n",
    "train_paths_dictionary = {}\n",
    "validation_paths_dictionary = {}\n",
    "test_paths_dictionary = {}\n",
    "all_paths_dictionary = {}\n",
    "\n",
    "for i, j in itertools.groupby(reciters_paths, key=lambda x: x.split('/')[-2]):\n",
    "    files = list(j)\n",
    "    all_paths_dictionary[int(i)] = files\n",
    "    train_paths, test_paths = train_test_split(files, test_size=0.30, random_state=13)\n",
    "    test_paths, validation_paths = train_test_split(test_paths, test_size=0.30, random_state=13)\n",
    "    train_paths_dictionary[int(i)] = train_paths\n",
    "    test_paths_dictionary[int(i)] = test_paths\n",
    "    validation_paths_dictionary[int(i)] = validation_paths"
   ]
  },
  {
   "cell_type": "code",
   "execution_count": 3,
   "metadata": {},
   "outputs": [],
   "source": [
    "random.seed(a=13)"
   ]
  },
  {
   "cell_type": "code",
   "execution_count": 4,
   "metadata": {},
   "outputs": [
    {
     "data": {
      "text/plain": [
       "<matplotlib.axes._subplots.AxesSubplot at 0x7f7ef8246048>"
      ]
     },
     "execution_count": 4,
     "metadata": {},
     "output_type": "execute_result"
    }
   ],
   "source": [
    "original_distribution = []\n",
    "for i, j in itertools.groupby(reciters_paths, key=lambda x: x.split('/')[-2]):\n",
    "    original_distribution += [int(i)] * len(list(j))\n",
    "sns.distplot(original_distribution, bins=50, kde=False, rug=False, axlabel='reciter id')"
   ]
  },
  {
   "cell_type": "code",
   "execution_count": 5,
   "metadata": {},
   "outputs": [
    {
     "data": {
      "text/plain": [
       "<matplotlib.axes._subplots.AxesSubplot at 0x7f7ee38d9e80>"
      ]
     },
     "execution_count": 5,
     "metadata": {},
     "output_type": "execute_result"
    }
   ],
   "source": [
    "original_distribution_counter = Counter(original_distribution)\n",
    "sampled_distribution = []\n",
    "for k in original_distribution_counter.keys():\n",
    "    sampled_distribution += [k] * min(10, original_distribution_counter[k])\n",
    "sns.distplot(sampled_distribution, bins=50, kde=False, rug=False, axlabel='reciter id')"
   ]
  },
  {
   "cell_type": "code",
   "execution_count": 6,
   "metadata": {},
   "outputs": [
    {
     "name": "stderr",
     "output_type": "stream",
     "text": [
      "100%|██████████| 50/50 [18:04<00:00, 21.68s/it]\n"
     ]
    }
   ],
   "source": [
    "original_lengths = []\n",
    "sampled_lengths = []\n",
    "for reciter_id, reciter_path in tqdm(all_paths_dictionary.items()):\n",
    "    for clip_path in random.sample(reciter_path, min(10, len(reciter_path))):\n",
    "        clip = AudioSegment.from_mp3(clip_path).split_to_mono()[0]\n",
    "        original_lengths.append(int(len(clip)/1000))\n",
    "        segments_in_clip = int(len(clip)/5000)\n",
    "        sampled_lengths.append(min(5, segments_in_clip)*5)"
   ]
  },
  {
   "cell_type": "code",
   "execution_count": 15,
   "metadata": {},
   "outputs": [
    {
     "data": {
      "text/plain": [
       "<matplotlib.axes._subplots.AxesSubplot at 0x7f7ee205d278>"
      ]
     },
     "execution_count": 15,
     "metadata": {},
     "output_type": "execute_result"
    }
   ],
   "source": [
    "sns.distplot(original_lengths, bins=50, kde=False, rug=False, axlabel='clip length')"
   ]
  },
  {
   "cell_type": "code",
   "execution_count": 16,
   "metadata": {},
   "outputs": [
    {
     "data": {
      "text/plain": [
       "<matplotlib.axes._subplots.AxesSubplot at 0x7f7ee2033748>"
      ]
     },
     "execution_count": 16,
     "metadata": {},
     "output_type": "execute_result"
    }
   ],
   "source": [
    "sns.distplot(sampled_lengths, bins=50, kde=False, rug=False, axlabel='clip length')"
   ]
  },
  {
   "cell_type": "code",
   "execution_count": 29,
   "metadata": {},
   "outputs": [
    {
     "data": {
      "text/plain": [
       "6.366666666666666"
      ]
     },
     "execution_count": 29,
     "metadata": {},
     "output_type": "execute_result"
    }
   ],
   "source": [
    "np.median(original_lengths)/60"
   ]
  }
 ],
 "metadata": {
  "kernelspec": {
   "display_name": "Python 3",
   "language": "python",
   "name": "python3"
  },
  "language_info": {
   "codemirror_mode": {
    "name": "ipython",
    "version": 3
   },
   "file_extension": ".py",
   "mimetype": "text/x-python",
   "name": "python",
   "nbconvert_exporter": "python",
   "pygments_lexer": "ipython3",
   "version": "3.6.4"
  }
 },
 "nbformat": 4,
 "nbformat_minor": 2
}
